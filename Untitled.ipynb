{
 "cells": [
  {
   "cell_type": "markdown",
   "id": "34c6950d",
   "metadata": {},
   "source": [
    "# import Libarary \n"
   ]
  },
  {
   "cell_type": "code",
   "execution_count": 1,
   "id": "6f11430a",
   "metadata": {},
   "outputs": [],
   "source": [
    "import tkinter as tk\n",
    "from tkinter.ttk import *\n",
    "import cv2\n",
    "from PIL import Image, ImageTk\n",
    "from tkinter import filedialog\n",
    "import pandas as pd\n",
    "from ultralytics import YOLO\n",
    "import cvzone\n",
    "import threading"
   ]
  },
  {
   "cell_type": "code",
   "execution_count": 2,
   "id": "2c5e744d",
   "metadata": {},
   "outputs": [],
   "source": [
    "# Global variables for OpenCV-related objects and flags\n",
    "cap = None\n",
    "is_camera_on = False\n",
    "frame_count = 0\n",
    "frame_skip_threshold = 3\n",
    "model = YOLO('yolov8s.pt')\n",
    "video_paused = False\n"
   ]
  },
  {
   "cell_type": "code",
   "execution_count": 3,
   "id": "cbcb97ba",
   "metadata": {},
   "outputs": [],
   "source": [
    "# Function to read coco.txt\n",
    "def read_classes_from_file(file_path):\n",
    "    with open(file_path, 'r') as file:\n",
    "        classes = [line.strip() for line in file] # بتشيل المسافات\n",
    "    return classes"
   ]
  },
  {
   "cell_type": "code",
   "execution_count": 4,
   "id": "400d555b",
   "metadata": {},
   "outputs": [],
   "source": [
    "# Function to start the webcam feed\n",
    "def start_webcam():\n",
    "    global cap, is_camera_on, video_paused\n",
    "    if not is_camera_on:\n",
    "        cap = cv2.VideoCapture(0)  # Use the default webcam (you can change the index if needed)\n",
    "        is_camera_on = True\n",
    "        video_paused = False\n",
    "        update_canvas()  # Start updating the canvas"
   ]
  },
  {
   "cell_type": "code",
   "execution_count": 5,
   "id": "37c728cf",
   "metadata": {},
   "outputs": [],
   "source": [
    "# Function to stop the webcam feed\n",
    "def stop_webcam():\n",
    "    global cap, is_camera_on, video_paused\n",
    "    if cap is not None:\n",
    "        cap.release()\n",
    "        is_camera_on = False\n",
    "        video_paused = False"
   ]
  },
  {
   "cell_type": "code",
   "execution_count": 6,
   "id": "d7d158a8",
   "metadata": {},
   "outputs": [],
   "source": [
    "# Function to pause or resume the video\n",
    "def pause_resume_video():\n",
    "    global video_paused\n",
    "    video_paused = not video_paused\n",
    "\n",
    "    \n"
   ]
  },
  {
   "cell_type": "code",
   "execution_count": 7,
   "id": "b7f1119f",
   "metadata": {},
   "outputs": [],
   "source": [
    "# Function to start video playback from a file\n",
    "def select_file():\n",
    "    global cap, is_camera_on, video_paused\n",
    "    if is_camera_on:\n",
    "        stop_webcam()  # Stop the webcam feed if running\n",
    "    file_path = filedialog.askopenfilename(filetypes=[(\"Video files\", \"*.mp4 *.avi *.mov\")])\n",
    "    if file_path:\n",
    "        cap = cv2.VideoCapture(file_path)\n",
    "        is_camera_on = True\n",
    "        video_paused = False\n",
    "        update_canvas()  # Start updating the canvas with the video"
   ]
  },
  {
   "cell_type": "code",
   "execution_count": 8,
   "id": "9105f0a9",
   "metadata": {},
   "outputs": [],
   "source": [
    "# Function to update the Canvas with the webcam frame or video frame\n",
    "def update_canvas():\n",
    "    global is_camera_on, frame_count, video_paused\n",
    "    if is_camera_on:\n",
    "        if not video_paused:\n",
    "            ret, frame = cap.read()\n",
    "            if ret:\n",
    "                frame_count += 1\n",
    "                if frame_count % frame_skip_threshold != 0:\n",
    "                    canvas.after(10, update_canvas)\n",
    "                    return\n",
    "\n",
    "                frame = cv2.cvtColor(frame, cv2.COLOR_BGR2RGB)\n",
    "                frame = cv2.resize(frame, (1020, 500))\n",
    "                selected_class = class_selection.get()\n",
    "\n",
    "                results = model.predict(frame)\n",
    "                a = results[0].boxes.data\n",
    "                px = pd.DataFrame(a).astype(\"float\")\n",
    "                for index, row in px.iterrows():\n",
    "                    x1 = int(row[0])\n",
    "                    y1 = int(row[1])\n",
    "                    x2 = int(row[2])\n",
    "                    y2 = int(row[3])\n",
    "                    d = int(row[5])\n",
    "                    c = class_list[d]\n",
    "                    if selected_class == \"All\" or c == selected_class:\n",
    "                        cv2.rectangle(frame, (x1, y1), (x2, y2), (0, 0, 255), 2)\n",
    "                        cvzone.putTextRect(frame, f'{c}', (x1, y1), 1, 1)\n",
    "\n",
    "                photo = ImageTk.PhotoImage(image=Image.fromarray(frame))\n",
    "                canvas.img = photo\n",
    "                canvas.create_image(0, 0, anchor=tk.NW, image=photo)\n",
    "\n",
    "        canvas.after(10, update_canvas)\n",
    "\n"
   ]
  },
  {
   "cell_type": "code",
   "execution_count": 9,
   "id": "f3fb85c1",
   "metadata": {},
   "outputs": [],
   "source": [
    "# Function to quit the application\n",
    "def quit_app():\n",
    "    stop_webcam()\n",
    "    root.quit()\n",
    "    root.destroy()"
   ]
  },
  {
   "cell_type": "code",
   "execution_count": 10,
   "id": "0d18c823",
   "metadata": {},
   "outputs": [],
   "source": [
    "# Create the main Tkinter window\n",
    "root = tk.Tk()\n",
    "root.title(\"YOLO v8 My App\")\n",
    "#*********************************************************************************************\n",
    "# Create a Canvas widget to display the webcam feed or video\n",
    "canvas = tk.Canvas(root, width=1020, height=500)\n",
    "canvas.pack(fill='both', expand=True)\n",
    "\n",
    "class_list = read_classes_from_file('coco.txt')\n",
    "\n",
    "class_selection = tk.StringVar()# هنا على حسب المستخدم عايز يعمل على اية detect\n",
    "class_selection.set(\"All\")  # Default selection is \"All\"\n",
    "class_selection_label = tk.Label(root, text=\"Select Class:\")\n",
    "class_selection_label.pack(side='left')\n",
    "class_selection_entry = tk.OptionMenu(root, class_selection, \"All\", *class_list)  # Populate dropdown with classes from the text file\n",
    "class_selection_entry.pack(side='left')"
   ]
  },
  {
   "cell_type": "code",
   "execution_count": 11,
   "id": "130a7fba",
   "metadata": {},
   "outputs": [],
   "source": [
    "\n",
    "# Create a frame to hold the buttons\n",
    "button_frame = tk.Frame(root)\n",
    "button_frame.pack(fill='x')"
   ]
  },
  {
   "cell_type": "code",
   "execution_count": 12,
   "id": "d0776832",
   "metadata": {},
   "outputs": [],
   "source": [
    "\n",
    "# Create a \"Play\" button to start the webcam feed\n",
    "play_button = tk.Button(button_frame, text=\"Play\", command=start_webcam)\n",
    "play_button.pack(side='left')"
   ]
  },
  {
   "cell_type": "code",
   "execution_count": 13,
   "id": "7f595281",
   "metadata": {},
   "outputs": [],
   "source": [
    "# Create a \"Stop\" button to stop the webcam feed\n",
    "stop_button = tk.Button(button_frame, text=\"Stop\", command=stop_webcam)\n",
    "stop_button.pack(side='left')"
   ]
  },
  {
   "cell_type": "code",
   "execution_count": 14,
   "id": "88480492",
   "metadata": {},
   "outputs": [],
   "source": [
    "# Create a \"Select File\" button to choose a video file\n",
    "file_button = tk.Button(button_frame, text=\"Select File\", command=select_file)\n",
    "file_button.pack(side='left')\n"
   ]
  },
  {
   "cell_type": "code",
   "execution_count": 15,
   "id": "472cc764",
   "metadata": {},
   "outputs": [],
   "source": [
    "# Create a \"Pause/Resume\" button to pause or resume video\n",
    "pause_button = tk.Button(button_frame, text=\"Pause/Resume\", command=pause_resume_video)\n",
    "pause_button.pack(side='left')"
   ]
  },
  {
   "cell_type": "code",
   "execution_count": 16,
   "id": "8a4ee932",
   "metadata": {},
   "outputs": [],
   "source": [
    "# Create a \"Quit\" button to close the application\n",
    "quit_button = tk.Button(button_frame, text=\"Quit\", fg='blue',bg='red' ,command=quit_app)\n",
    "quit_button.pack(side='left')"
   ]
  },
  {
   "cell_type": "code",
   "execution_count": 17,
   "id": "be3681f9",
   "metadata": {},
   "outputs": [
    {
     "name": "stderr",
     "output_type": "stream",
     "text": [
      "Exception in Tkinter callback\n",
      "Traceback (most recent call last):\n",
      "  File \"C:\\Users\\ELPOP\\anaconda3\\lib\\tkinter\\__init__.py\", line 1892, in __call__\n",
      "    return self.func(*args)\n",
      "  File \"C:\\Users\\ELPOP\\anaconda3\\lib\\tkinter\\__init__.py\", line 814, in callit\n",
      "    func(*args)\n",
      "  File \"<ipython-input-8-f57ba93fcdc0>\", line 17, in update_canvas\n",
      "    results = model.predict(frame)\n",
      "  File \"C:\\Users\\ELPOP\\anaconda3\\Lib\\site-packages\\torch\\utils\\_contextlib.py\", line 115, in decorate_context\n",
      "    return func(*args, **kwargs)\n",
      "  File \"C:\\Users\\ELPOP\\anaconda3\\Lib\\site-packages\\ultralytics\\yolo\\engine\\model.py\", line 130, in predict\n",
      "    predictor.setup(model=self.model, source=source)\n",
      "  File \"C:\\Users\\ELPOP\\anaconda3\\Lib\\site-packages\\ultralytics\\yolo\\engine\\predictor.py\", line 111, in setup\n",
      "    source = str(source or self.args.source)\n",
      "ValueError: The truth value of an array with more than one element is ambiguous. Use a.any() or a.all()\n"
     ]
    }
   ],
   "source": [
    "\n",
    "# Display an initial image on the canvas (replace 'initial_image.jpg' with your image)\n",
    "initial_image = Image.open('yolo.jpg')  # Replace 'initial_image.jpg' with your image path\n",
    "initial_photo = ImageTk.PhotoImage(image=initial_image)\n",
    "canvas.img = initial_photo\n",
    "canvas.create_image(0, 0, anchor=tk.NW, image=initial_photo)\n",
    "\n",
    "# Start the Tkinter main loop\n",
    "root.mainloop()"
   ]
  }
 ],
 "metadata": {
  "kernelspec": {
   "display_name": "Python 3",
   "language": "python",
   "name": "python3"
  },
  "language_info": {
   "codemirror_mode": {
    "name": "ipython",
    "version": 3
   },
   "file_extension": ".py",
   "mimetype": "text/x-python",
   "name": "python",
   "nbconvert_exporter": "python",
   "pygments_lexer": "ipython3",
   "version": "3.8.8"
  }
 },
 "nbformat": 4,
 "nbformat_minor": 5
}
